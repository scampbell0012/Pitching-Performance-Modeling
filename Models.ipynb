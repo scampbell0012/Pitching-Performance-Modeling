{
 "cells": [
  {
   "cell_type": "code",
   "execution_count": 1,
   "metadata": {
    "scrolled": true
   },
   "outputs": [],
   "source": [
    "# clean the data\n",
    "%run \"Data Analysis Cleaning.ipynb\""
   ]
  },
  {
   "cell_type": "markdown",
   "metadata": {},
   "source": [
    "# Model Creation"
   ]
  },
  {
   "cell_type": "markdown",
   "metadata": {},
   "source": [
    "## Model 1"
   ]
  },
  {
   "cell_type": "code",
   "execution_count": 2,
   "metadata": {},
   "outputs": [],
   "source": [
    "def single_attribute_model(attribute_name, performance_metric_name):\n",
    "    '''\n",
    "    This function creates a single variable linear regression model for predicting a given \n",
    "    performance metric using a single input attribute\n",
    "    \n",
    "    Parameters:\n",
    "    attribute_name - the name of the attribute to be used as the input to our model\n",
    "    performance_metric_name - the name of the metric to be predicted by the model\n",
    "    \n",
    "    Returns:\n",
    "    error - the percent error of the model on the test set\n",
    "    model.params - a list of the parameters that the model uses along with their coefficients\n",
    "    '''\n",
    "    data = normalized_pitchers[[performance_metric_name, attribute_name]].dropna()\n",
    "    X = data.iloc[:, 1]\n",
    "    Y = data.iloc[:, 0]\n",
    " \n",
    "    X_train, X_test, y_train, y_test = train_test_split(X, Y, test_size=0.2, random_state=0)\n",
    " \n",
    "    model = sm.OLS(y_train,X_train).fit()\n",
    "    predictions = model.predict(X_test)\n",
    "    error = (np.sum(np.abs(predictions - y_test) / y_test) / y_test.size)\n",
    "    return (error, model.params)"
   ]
  },
  {
   "cell_type": "code",
   "execution_count": 3,
   "metadata": {},
   "outputs": [],
   "source": [
    "# here we define model1 as the single variable models for each attrribute of each pitch\n",
    "performance_measures = ['z_contact_percent', 'ERA', 'WHIP']\n",
    "pitch_name = ['fastball_break_vertical','fastball_break_horizontal', \n",
    "                     'percent_fastball_thrown','fastball_speed','fastball_spin','offspeed_break_vertical', \n",
    "                     'offspeed_break_horizontal','percent_offspeed_thrown','offspeed_speed', 'offspeed_spin', \n",
    "                     'breaking_break_vertical','breaking_break_horizontal','percent_breaking_thrown', \n",
    "                     'breaking_speed','breaking_spin']\n",
    "pitches = []\n",
    "metrics = []\n",
    "errors = []\n",
    "coefs = []\n",
    "for pitch in pitch_name:\n",
    "    for metric in performance_measures:\n",
    "        pitches +=[pitch]\n",
    "        metrics +=[metric]\n",
    "        error, params = single_attribute_model(pitch, metric)\n",
    "        errors.append(error)\n",
    "        coefs.append(params)\n",
    "model1 = {'pitch': pitches, 'metric': metrics, 'error': errors, 'coefs': coefs}\n",
    "model1_df = pd.DataFrame(data=model1)"
   ]
  },
  {
   "cell_type": "markdown",
   "metadata": {},
   "source": [
    "## Model 2"
   ]
  },
  {
   "cell_type": "code",
   "execution_count": 4,
   "metadata": {},
   "outputs": [],
   "source": [
    "def pitch_model2(pitch_name, performance_metric_name):\n",
    "    '''\n",
    "    This function creates a multivariable linear regression model for predicting a given \n",
    "    perfromance metric using all attributes of the specified pitch\n",
    "    \n",
    "    Parameters:\n",
    "    pitch_name - the name of the pitch whose attribiutes will be used as the input to our model\n",
    "    performance_metric_name - the name of the metric to be predicted by the model\n",
    "    \n",
    "    Returns:\n",
    "    error - the percent error of the model on the test set\n",
    "    model.params - a list of the parameters that the model uses along with their coefficients\n",
    "    '''\n",
    "    data = normalized_pitchers[[performance_metric_name, pitch_name + '_break_vertical', \n",
    "                     pitch_name + '_break_horizontal', 'percent_' + pitch_name + '_thrown', \n",
    "                     pitch_name + '_speed', pitch_name + '_spin']].dropna()\n",
    "    X = data.iloc[:, 1:]\n",
    "    Y = data.iloc[:, 0]\n",
    " \n",
    "    X_train, X_test, y_train, y_test = train_test_split(X, Y, test_size=0.2, random_state=0)\n",
    " \n",
    "    # model selection using p values on training set\n",
    "    variables = X.columns\n",
    "    model = sm.OLS(y_train,X_train[variables]).fit()\n",
    "    stat_sig_vars = variables\n",
    "    while any(model.pvalues > .05):\n",
    "       stat_sig_vars = stat_sig_vars[model.pvalues <= .05]\n",
    "       model = sm.OLS(y_train,X_train[stat_sig_vars]).fit()\n",
    "\n",
    "    predictions = model.predict(X_test[stat_sig_vars])\n",
    "    error = (np.sum(np.abs(predictions - y_test) / y_test) / y_test.size)\n",
    "\n",
    "    return (error, model.params)"
   ]
  },
  {
   "cell_type": "code",
   "execution_count": 5,
   "metadata": {
    "scrolled": false
   },
   "outputs": [],
   "source": [
    "# here we define model2 as the multivariable models for all attributes of each pitch combined\n",
    "performance_measures = ['z_contact_percent', 'ERA', 'WHIP']\n",
    "pitch_classes = ['fastball', 'breaking', 'offspeed']\n",
    "\n",
    "\n",
    "pitches = []\n",
    "metrics = []\n",
    "errors = []\n",
    "coefs = []\n",
    "for pitch in pitch_classes:\n",
    "    for metric in performance_measures:\n",
    "        pitches +=[pitch]\n",
    "        metrics +=[metric]\n",
    "        error, params = pitch_model2(pitch, metric)\n",
    "        errors.append(error)\n",
    "        coefs.append(params)\n",
    "model2 = {'pitch': pitches, 'metric': metrics, 'error': errors, 'coefs': coefs}\n",
    "model2_df = pd.DataFrame(data=model2)"
   ]
  },
  {
   "cell_type": "markdown",
   "metadata": {},
   "source": [
    "## Model 3"
   ]
  },
  {
   "cell_type": "code",
   "execution_count": 6,
   "metadata": {},
   "outputs": [],
   "source": [
    "# here we define model3 as the single variable models for each overall attrribute of a pitcher\n",
    "performance_measures = ['z_contact_percent', 'ERA', 'WHIP']\n",
    "attributes = ['1st_pitch_strike_percent', 'fastball_speed', 'delta']\n",
    "\n",
    "metrics = []\n",
    "errors = []\n",
    "attribute = []\n",
    "coefs = []\n",
    "for a in attributes:\n",
    "    for metric in performance_measures:\n",
    "        attribute +=[a]\n",
    "        metrics +=[metric]\n",
    "        error, params = single_attribute_model(a, metric)\n",
    "        errors.append(error)\n",
    "        coefs.append(params)\n",
    "model3 = {'attributes': attribute, 'metric': metrics, 'error': errors, 'coefs': coefs}\n",
    "model3_df = pd.DataFrame(data=model3)"
   ]
  },
  {
   "cell_type": "code",
   "execution_count": 7,
   "metadata": {},
   "outputs": [],
   "source": [
    "def multiple_attribute_model(attribute_list, performance_metric_name):\n",
    "    '''\n",
    "    This function creates a multivariable linear regression model for predicting a given \n",
    "    performance metric using all given attributes\n",
    "    \n",
    "    Parameters:\n",
    "    attribute_list - the list of attributes to be used as inputs to our model\n",
    "    performance_metric_name - the name of the metric to be predicted by the model\n",
    "    \n",
    "    Returns:\n",
    "    error - the percent error of the model on the test set\n",
    "    model.params - a list of the parameters that the model uses along with their coefficients\n",
    "    '''\n",
    "    feature_list = attribute_list.copy()\n",
    "    feature_list.append(performance_metric_name)\n",
    "    data = normalized_pitchers[feature_list].dropna()\n",
    "    X = data[attribute_list]\n",
    "    Y = data[performance_metric_name]\n",
    " \n",
    "    X_train, X_test, y_train, y_test = train_test_split(X, Y, test_size=0.2, random_state=0)\n",
    " \n",
    "    # model selection using p values on training set\n",
    "    variables = X.columns\n",
    "    model = sm.OLS(y_train,X_train[variables]).fit()\n",
    "    stat_sig_vars = variables\n",
    "    while any(model.pvalues > .05):\n",
    "        stat_sig_vars = stat_sig_vars[model.pvalues <= .05]\n",
    "        model = sm.OLS(y_train,X_train[stat_sig_vars]).fit()\n",
    "\n",
    "    predictions = model.predict(X_test[stat_sig_vars])\n",
    "    error = (np.sum(np.abs(predictions - y_test) / y_test) / y_train.size)\n",
    "    \n",
    "    return (error, model.params)"
   ]
  },
  {
   "cell_type": "code",
   "execution_count": 8,
   "metadata": {},
   "outputs": [],
   "source": [
    "def multiple_attribute_model_with_model(attribute_list, performance_metric_name):\n",
    "    '''\n",
    "    This function creates a multivariable linear regression model for predicting a given \n",
    "    performance metric using all given attributes\n",
    "    \n",
    "    Parameters:\n",
    "    attribute_list - the list of attributes to be used as inputs to our model\n",
    "    performance_metric_name - the name of the metric to be predicted by the model\n",
    "    \n",
    "    Returns:\n",
    "    error - the percent error of the model on the test set\n",
    "    model.params - a list of the parameters that the model uses along with their coefficients\n",
    "    '''\n",
    "    feature_list = attribute_list.copy()\n",
    "    feature_list.append(performance_metric_name)\n",
    "    data = normalized_pitchers[feature_list].dropna()\n",
    "    X = data[attribute_list]\n",
    "    Y = data[performance_metric_name]\n",
    " \n",
    "    X_train, X_test, y_train, y_test = train_test_split(X, Y, test_size=0.2, random_state=0)\n",
    " \n",
    "    # model selection using p values on training set\n",
    "    variables = X.columns\n",
    "    model = sm.OLS(y_train,X_train[variables]).fit()\n",
    "    stat_sig_vars = variables\n",
    "    while any(model.pvalues > .05):\n",
    "        stat_sig_vars = stat_sig_vars[model.pvalues <= .05]\n",
    "        model = sm.OLS(y_train,X_train[stat_sig_vars]).fit()\n",
    "\n",
    "    predictions = model.predict(X_test[stat_sig_vars])\n",
    "    error = (np.sum(np.abs(predictions - y_test) / y_test) / y_train.size)\n",
    "    \n",
    "    return (error, model)"
   ]
  },
  {
   "cell_type": "markdown",
   "metadata": {},
   "source": [
    "## Model 4"
   ]
  },
  {
   "cell_type": "code",
   "execution_count": 9,
   "metadata": {},
   "outputs": [],
   "source": [
    "# here we define model4 as the multivariable models for all overall attrribute combined\n",
    "performance_measures = ['z_contact_percent', 'ERA', 'WHIP']\n",
    "attributes = ['1st_pitch_strike_percent', 'fastball_speed', 'delta']\n",
    "\n",
    "errors = []\n",
    "coefs = []\n",
    "\n",
    "for metric in performance_measures:\n",
    "        error, params = multiple_attribute_model(attributes, metric)\n",
    "        errors.append(error)\n",
    "        coefs.append(params)\n",
    "model4 = {'Attributes': [\"\", \"\", \"\"], 'metrics': performance_measures, 'error': errors, 'coefs': coefs}\n",
    "model4_df = pd.DataFrame(data=model4)"
   ]
  },
  {
   "cell_type": "markdown",
   "metadata": {},
   "source": [
    "## Model 5"
   ]
  },
  {
   "cell_type": "code",
   "execution_count": 10,
   "metadata": {},
   "outputs": [],
   "source": [
    "# here we define model5 as the multivariable models for all attrributes of all pitches combined\n",
    "performance_measures = ['z_contact_percent', 'ERA', 'WHIP']\n",
    "attributes = ['fastball_break_vertical','fastball_break_horizontal', \n",
    "                     'percent_fastball_thrown','fastball_speed','fastball_spin','offspeed_break_vertical', \n",
    "                     'offspeed_break_horizontal','percent_offspeed_thrown','offspeed_speed', 'offspeed_spin', \n",
    "                     'breaking_break_vertical','breaking_break_horizontal','percent_breaking_thrown', \n",
    "                     'breaking_speed','breaking_spin']\n",
    "\n",
    "errors = []\n",
    "coefs = []\n",
    "model5_models = []\n",
    "\n",
    "for metric in performance_measures:\n",
    "        error, model5_model = multiple_attribute_model_with_model(attributes, metric)\n",
    "        errors.append(error)\n",
    "        coefs.append(model5_model.params)\n",
    "        model5_models.append(model5_model)\n",
    "model5 = {'Attributes': [\"\", \"\", \"\"], 'metrics': performance_measures, 'error': errors, 'coefs': coefs}\n",
    "model5_df = pd.DataFrame(data=model5)"
   ]
  },
  {
   "cell_type": "markdown",
   "metadata": {},
   "source": [
    "## Model 6"
   ]
  },
  {
   "cell_type": "code",
   "execution_count": 11,
   "metadata": {},
   "outputs": [],
   "source": [
    "# here we define model6 as the multivariable models for all attrribute combined\n",
    "performance_measures = ['z_contact_percent', 'ERA', 'WHIP']\n",
    "attributes = ['fastball_break_vertical','fastball_break_horizontal', \n",
    "                     'percent_fastball_thrown','fastball_speed','fastball_spin','offspeed_break_vertical', \n",
    "                     'offspeed_break_horizontal','percent_offspeed_thrown','offspeed_speed', 'offspeed_spin', \n",
    "                     'breaking_break_vertical','breaking_break_horizontal','percent_breaking_thrown', \n",
    "                     'breaking_speed','breaking_spin', '1st_pitch_strike_percent', 'delta']\n",
    "\n",
    "errors = []\n",
    "coefs = []\n",
    "for metric in performance_measures:\n",
    "        error, params = multiple_attribute_model(attributes, metric)\n",
    "        errors.append(error)\n",
    "        coefs.append(params)\n",
    "model6 = {'Attributes': [\"\", \"\", \"\"], 'metrics': performance_measures, 'error': errors, 'coefs': coefs}\n",
    "model6_df = pd.DataFrame(data=model6)"
   ]
  },
  {
   "cell_type": "markdown",
   "metadata": {},
   "source": [
    "## Model 7"
   ]
  },
  {
   "cell_type": "code",
   "execution_count": 12,
   "metadata": {},
   "outputs": [],
   "source": [
    "# first, we must create the new attributes in our dataframe\n",
    "pitchers['breaking_delta'] = pitchers['fastball_speed'] - pitchers['breaking_speed']\n",
    "\n",
    "# add these to our normalized df\n",
    "normalized_pitchers['breaking_delta'] = (pitchers['breaking_delta'] - pitchers['breaking_delta'].min()) / (pitchers['breaking_delta'].max() - pitchers['breaking_delta'].min())"
   ]
  },
  {
   "cell_type": "code",
   "execution_count": 13,
   "metadata": {},
   "outputs": [],
   "source": [
    "# here we define model7 as the multivariable models for all attrribute combined\n",
    "\n",
    "def model7(attribute_list, performance_metric_name):\n",
    "    '''\n",
    "    This function creates a multivariable linear regression model for predicting a given \n",
    "    performance metric using all given attributes\n",
    "    \n",
    "    Parameters:\n",
    "    attribute_list - the list of attributes to be used as inputs to our model\n",
    "    performance_metric_name - the name of the metric to be predicted by the model\n",
    "    \n",
    "    Returns:\n",
    "    error - the percent error of the model on the test set\n",
    "    model.params - a list of the parameters that the model uses along with their coefficients\n",
    "    '''\n",
    "    feature_list = attribute_list.copy()\n",
    "    feature_list.append(performance_metric_name)\n",
    "    data = normalized_pitchers[feature_list].dropna()\n",
    "    X = data[attribute_list]\n",
    "    Y = data[performance_metric_name]\n",
    " \n",
    "    X_train, X_test, y_train, y_test = train_test_split(X, Y, test_size=0.2, random_state=0)\n",
    " \n",
    "    # model selection using p values on training set\n",
    "    variables = X.columns\n",
    "    model = sm.OLS(y_train,X_train[variables]).fit()\n",
    "    stat_sig_vars = variables\n",
    "    while any(model.pvalues > .05):\n",
    "        stat_sig_vars = stat_sig_vars[model.pvalues <= .05]\n",
    "        model = sm.OLS(y_train,X_train[stat_sig_vars]).fit()\n",
    "        \n",
    "    if ('breaking_delta' not in stat_sig_vars):\n",
    "        stat_sig_vars = stat_sig_vars.append(pd.Index(['breaking_delta']))\n",
    "    model = sm.OLS(y_train,X_train[stat_sig_vars]).fit()\n",
    "\n",
    "\n",
    "    while any(model.pvalues > .05):\n",
    "        stat_sig_vars = stat_sig_vars[model.pvalues <= .05]\n",
    "        model = sm.OLS(y_train,X_train[stat_sig_vars]).fit()\n",
    "\n",
    "    predictions = model.predict(X_test[stat_sig_vars])\n",
    "    error = (np.sum(np.abs(predictions - y_test) / y_test) / y_train.size)\n",
    "    \n",
    "    return (error, model.params)"
   ]
  },
  {
   "cell_type": "code",
   "execution_count": 14,
   "metadata": {},
   "outputs": [],
   "source": [
    "# now we create a dataframe with data for this type of model\n",
    "performance_measures = ['z_contact_percent', 'ERA', 'WHIP']\n",
    "attributes = ['fastball_break_vertical','fastball_break_horizontal', \n",
    "                     'percent_fastball_thrown','fastball_speed','fastball_spin','offspeed_break_vertical', \n",
    "                     'offspeed_break_horizontal','percent_offspeed_thrown','offspeed_speed', 'offspeed_spin', \n",
    "                     'breaking_break_vertical','breaking_break_horizontal','percent_breaking_thrown', \n",
    "                     'breaking_speed','breaking_spin', '1st_pitch_strike_percent', 'delta', 'breaking_delta']\n",
    "\n",
    "errors = []\n",
    "coefs = []\n",
    "\n",
    "for metric in performance_measures:\n",
    "        error, params = model7(attributes, metric)\n",
    "        errors.append(error)\n",
    "        coefs.append(params)\n",
    "model7 = {'Attributes': [\"\", \"\", \"\"], 'metrics': performance_measures, 'error': errors, 'coefs': coefs}\n",
    "model7_df = pd.DataFrame(data=model7)"
   ]
  },
  {
   "cell_type": "markdown",
   "metadata": {},
   "source": [
    "## Print Best"
   ]
  },
  {
   "cell_type": "code",
   "execution_count": 15,
   "metadata": {},
   "outputs": [],
   "source": [
    "def print_best(model_number):\n",
    "    '''\n",
    "    This method calculates the best model of the given type and prints its coefficients \n",
    "    as well as its percent error\n",
    "    \n",
    "    Parameters:\n",
    "    model_number - an integer between 1 and 7 inclusive representing the type of model\n",
    "    '''\n",
    "    \n",
    "    description_string = [\"\\n\\nCoefficients for the best individual pitch attribute model of {} with percent error {:.2%}:\\n\", \n",
    "                         \"\\n\\nCoefficients for the best individual pitch model of {} with percent error {:.2%}:\\n\",\n",
    "                          \"\\n\\nCoefficients for the best individual overall attribute model of {} with percent error {:.2%}:\\n\",\n",
    "                          \"\\n\\nCoefficients for the combined overall attribute model of {} with percent error {:.2%}:\\n\",\n",
    "                          \"\\n\\nCoefficients for the combined pitch attribute model of {} with percent error {:.2%}:\\n\",\n",
    "                          \"\\n\\nCoefficients for the all attribute model of {} with percent error {:.2%}:\\n\",\n",
    "                          \"\\n\\nCoefficients for the all attribute (including newly added attributes) model of {} with percent error {:.2%}:\\n\"][model_number - 1]\n",
    "    metrics = [\"ERA\", \"WHIP\", \"z_contact_percent\"]\n",
    "    model = globals()[\"model\" + str(model_number)]\n",
    "    if (model_number in [1, 2, 3]):\n",
    "        errors = model['error']\n",
    "        coefs = model['coefs']\n",
    "        for i in [0,1,2]:\n",
    "            errors_i = [errors[3 * j + ((i + 1) % 3)] for j in range(int(len(errors) / 3))]\n",
    "            coefs_i = [coefs[3 * j + ((i + 1) % 3)] for j in range(int(len(errors) / 3))]\n",
    "            print(description_string.format(metrics[i], min(errors_i)))\n",
    "            print(coefs_i[errors_i.index(min(errors_i))])\n",
    "        \n",
    "    else:\n",
    "        errors = model['error']\n",
    "        coefs = model['coefs']\n",
    "        for i in [0, 1, 2]:\n",
    "            print(description_string.format(metrics[i], (errors[(i + 1) % 3])))\n",
    "            print(coefs[(i + 1) % 3])"
   ]
  },
  {
   "cell_type": "markdown",
   "metadata": {},
   "source": [
    "## Make a List that Contains the Errors for the Best Performing Model for Each Performance Metric"
   ]
  },
  {
   "cell_type": "code",
   "execution_count": 16,
   "metadata": {},
   "outputs": [],
   "source": [
    "era_errors = []\n",
    "whip_errors = []\n",
    "z_contact_percent_errors = []\n",
    "\n",
    "for model in [model1, model2, model3, model4, model5, model6, model7]:\n",
    "    errors = model['error']\n",
    "    for i in [0,1,2]:\n",
    "        errors_i = [errors[3 * j + ((i + 1) % 3)] for j in range(int(len(errors) / 3))]\n",
    "        if i ==0:\n",
    "            era_errors.append((min(errors_i)*100).round(3))\n",
    "        if i ==1:\n",
    "            whip_errors.append((min(errors_i)*100).round(3))\n",
    "        if i ==2:\n",
    "            z_contact_percent_errors.append((min(errors_i)*100).round(3))"
   ]
  },
  {
   "cell_type": "markdown",
   "metadata": {},
   "source": [
    "## Create Figure for Percent Error Display"
   ]
  },
  {
   "cell_type": "code",
   "execution_count": 17,
   "metadata": {
    "scrolled": true
   },
   "outputs": [],
   "source": [
    "def model_error_fig():\n",
    "    '''\n",
    "    This function plots a bar chart and table displaying the percent errors for \n",
    "    the best performing model in each of our model classes.\n",
    "    '''\n",
    "\n",
    "    # Add table data\n",
    "    table_data = [['Model Number', 'ERA % Error', 'WHIP % Error', 'Z Contact % Error']]\n",
    "    for i in range(7):\n",
    "        table_data.append([str(i + 1), era_errors[i] , whip_errors[i],  z_contact_percent_errors[i]])\n",
    "\n",
    "    # Initialize a figure with ff.create_table(table_data)\n",
    "    fig = ff.create_table(table_data, height_constant=30)\n",
    "\n",
    "    # Add graph data\n",
    "    models = ['Model 1', 'Model 2', 'Model 3',\n",
    "             'Model 4', 'Model 5', 'Model 6', 'Model 7']\n",
    "\n",
    "    # Make traces for graph\n",
    "    trace1 = go.Bar(x=models, y=era_errors, xaxis='x2', yaxis='y2',\n",
    "                    marker=dict(color='#0099ff'),\n",
    "                    name='ERA Error')\n",
    "    trace2 = go.Bar(x=models, y=whip_errors, xaxis='x2', yaxis='y2',\n",
    "                    marker=dict(color='#404040'),\n",
    "                    name='WHIP Error')\n",
    "    trace3 = go.Bar(x=models, y=z_contact_percent_errors, xaxis='x2', yaxis='y2',\n",
    "                    marker=dict(color='#808080'),\n",
    "                    name='Z Contact Percent Error')\n",
    "\n",
    "    # Add trace data to figure\n",
    "    fig.add_traces([trace1, trace2, trace3])\n",
    "\n",
    "    # initialize xaxis2 and yaxis2\n",
    "    fig['layout']['xaxis2'] = {}\n",
    "    fig['layout']['yaxis2'] = {}\n",
    "\n",
    "    # Edit layout for subplots\n",
    "    fig.layout.yaxis.update({'domain': [0, .4]})\n",
    "    fig.layout.yaxis2.update({'domain': [.6, 1]})\n",
    "\n",
    "    # The graph's yaxis2 MUST BE anchored to the graph's xaxis2 and vice versa\n",
    "    fig.layout.yaxis2.update({'anchor': 'x2'})\n",
    "    fig.layout.xaxis2.update({'anchor': 'y2'})\n",
    "    fig.layout.yaxis2.update({'title': 'Percent Error'})\n",
    "\n",
    "    # Update the margins to add a title and see graph x-labels.\n",
    "    fig.layout.margin.update({'t':75, 'l':5})\n",
    "    fig.layout.update({'title': 'Model Percent Error'})\n",
    "\n",
    "    # Update the height because adding a graph vertically will interact with\n",
    "    # the plot height calculated for the table\n",
    "    fig.layout.update({'height':800})\n",
    "\n",
    "    fig.show()\n",
    "    "
   ]
  },
  {
   "cell_type": "markdown",
   "metadata": {},
   "source": [
    "# Create Pitch Speeds Histogram"
   ]
  },
  {
   "cell_type": "code",
   "execution_count": 18,
   "metadata": {},
   "outputs": [],
   "source": [
    "def pitch_speeds_fig():\n",
    "    '''\n",
    "    This function plots a histogram displaying the pitch speeds for \n",
    "    each of the different types of pitches.\n",
    "    '''\n",
    "    # Add histogram data\n",
    "    x1 = pitchers['fastball_speed'].dropna()\n",
    "    x2 = pitchers['offspeed_speed'].dropna()\n",
    "    x3 = pitchers['breaking_speed'].dropna()\n",
    "\n",
    "    # Group data together\n",
    "    hist_data = [x1, x2, x3]\n",
    "\n",
    "    group_labels = ['Fastball Speed', 'Offspeed Speed', 'Breaking Speed']\n",
    "\n",
    "    # Create distplot with custom bin_size\n",
    "    fig = ff.create_distplot(hist_data, group_labels, bin_size=.2, show_rug=False)\n",
    "    fig.update_layout(\n",
    "        title='Pitch Speeds vs Pitch Frequency')\n",
    "    fig.update_layout(\n",
    "        title_text='Pitch Speeds', # title of plot\n",
    "        xaxis_title_text='Pitch Speed (mph)', # xaxis label\n",
    "        yaxis_title_text='Relative Frequency', # yaxis label\n",
    "    )\n",
    "\n",
    "    fig.show()"
   ]
  },
  {
   "cell_type": "markdown",
   "metadata": {},
   "source": [
    "# Create Pitch Spins Histogram"
   ]
  },
  {
   "cell_type": "code",
   "execution_count": 19,
   "metadata": {},
   "outputs": [],
   "source": [
    "def pitch_spins_fig():\n",
    "    '''\n",
    "    This function plots a histogram displaying the pitch spins for \n",
    "    each of the different types of pitches.\n",
    "    '''\n",
    "    # Add histogram data\n",
    "    x1 = pitchers['fastball_spin'].dropna()\n",
    "    x2 = pitchers['offspeed_spin'].dropna()\n",
    "    x3 = pitchers['breaking_spin'].dropna()\n",
    "\n",
    "    # Group data together\n",
    "    hist_data = [x1, x2, x3]\n",
    "\n",
    "    group_labels = ['Fastball Spin', 'Offspeed Spin', 'Breaking Spin']\n",
    "\n",
    "    # Create distplot with custom bin_size\n",
    "    fig = ff.create_distplot(hist_data, group_labels, bin_size=15,  show_rug=False)\n",
    "    fig.update_layout(\n",
    "        title_text='Pitch Spins', # title of plot\n",
    "        xaxis_title_text='Pitch Spin (rpm)', # xaxis label\n",
    "        yaxis_title_text='Relative Frequency', # yaxis label\n",
    "    )\n",
    "\n",
    "    fig.show()"
   ]
  },
  {
   "cell_type": "markdown",
   "metadata": {},
   "source": [
    "# Create Performance Measures Histogram"
   ]
  },
  {
   "cell_type": "code",
   "execution_count": 20,
   "metadata": {},
   "outputs": [],
   "source": [
    "def performance_measures_fig(metric):\n",
    "    '''\n",
    "    This function plots a histogram of the data in pitchers[metric].\n",
    "    \n",
    "    Parameters:\n",
    "    - metric - str - the name of the metric to be plotted in the histogram\n",
    "    '''\n",
    "    fig = px.histogram(pitchers, x=metric)\n",
    "    fig.update_layout(title= metric + ' Distribution')\n",
    "    fig.add_vline(x=pitchers[metric].mean(), annotation_text=\"Mean\", annotation_position=\"top right\", line_color = 'black')\n",
    "    fig.add_vline(x=pitchers[metric].median(), annotation_text=\"Median\", annotation_position=\"bottom left\", line_color=\"red\")\n",
    "    fig.show()\n",
    "    print(\"The mean {} of pitchers in our dataset is {:.2f}\".format(metric, pitchers[metric].mean()))\n",
    "    print(\"The median {} of pitchers in our dataset is {:.2f}\".format(metric, pitchers[metric].median()))\n",
    "    print(\"The standard deviation of {} of pitchers in our dataset is {:.2f}\".format(metric, pitchers[metric].std()))"
   ]
  },
  {
   "cell_type": "markdown",
   "metadata": {},
   "source": [
    "# Create 3-D Plot of Pitch Movement and Pitch Velocity"
   ]
  },
  {
   "cell_type": "code",
   "execution_count": 21,
   "metadata": {},
   "outputs": [],
   "source": [
    "def threeD_plot():\n",
    "    '''\n",
    "    This function plots the horizontal and vertical breaks of each pitch for each pitcher\n",
    "    against the pitches velocity in a 3D plot. Each type of pitch is represented by a \n",
    "    different color in our plot.\n",
    "    '''\n",
    "    %matplotlib notebook\n",
    "    fig=p.figure()\n",
    "    ax = p3.Axes3D(fig)\n",
    "    for pitch in ['fastball', 'offspeed', 'breaking']:\n",
    "        ax.scatter(pitchers[pitch + '_break_horizontal'], pitchers[pitch + '_speed'], pitchers[pitch + '_break_vertical'], alpha = 0.2)\n",
    "        ax.legend(['fastball', 'offspeed', 'breaking'])\n",
    "    ax.set_title('3-D Plot of Pitch Movement and Pitch Velocity')\n",
    "    ax.set(xlabel = 'Horizontal Break (inches)', ylabel = 'Velocity (mph)', zlabel='Vertical Break (inches)')\n",
    "    plt.show()"
   ]
  },
  {
   "cell_type": "markdown",
   "metadata": {},
   "source": [
    "# Model 5 (on Cornell Baseball Data)"
   ]
  },
  {
   "cell_type": "code",
   "execution_count": 22,
   "metadata": {
    "scrolled": true
   },
   "outputs": [],
   "source": [
    "#get Cornell Baseball Data\n",
    "cornell_data = pd.read_csv('cornell_pitching.csv')"
   ]
  },
  {
   "cell_type": "code",
   "execution_count": 23,
   "metadata": {},
   "outputs": [],
   "source": [
    "# normalize each attribute\n",
    "normalized_cornell = cornell_data.copy()\n",
    "for col_name in cornell_data.columns[1:]:\n",
    "    normalized_cornell[col_name] = (cornell_data[col_name] - pitchers[col_name].min()) / (pitchers[col_name].max() - pitchers[col_name].min()) "
   ]
  },
  {
   "cell_type": "code",
   "execution_count": 32,
   "metadata": {},
   "outputs": [],
   "source": [
    "attributes = ['fastball_break_vertical','fastball_break_horizontal', \n",
    "                     'percent_fastball_thrown','fastball_speed','fastball_spin','offspeed_break_vertical', \n",
    "                     'offspeed_break_horizontal','percent_offspeed_thrown','offspeed_speed', 'offspeed_spin', \n",
    "                     'breaking_break_vertical','breaking_break_horizontal','percent_breaking_thrown', \n",
    "                     'breaking_speed','breaking_spin']\n",
    "\n",
    "def predict(pitchers_dataframe):\n",
    "    '''\n",
    "    This function predicts the ERA, WHIP, and Z Contact Percentage of pitchers in pitchers_dataframe\n",
    "    \n",
    "    Parameters: \n",
    "    pitchers_dataframe - the data on pitchers to be used in predicting their metrics\n",
    "    \n",
    "    Returns:\n",
    "    Score_Model - a dataframe containing the Name of each pitcher, as well as their projected performance metrics\n",
    "    '''\n",
    "    Score_Model = pd.DataFrame(columns = ['Name', 'ERA Projected', 'WHIP Projected', 'Z Contact Percent Projected'])\n",
    "    features = pitchers_dataframe[attributes]\n",
    "    ERAscore = model5_models[1].predict(features[['percent_fastball_thrown', 'fastball_speed', 'fastball_spin', 'offspeed_break_horizontal', 'percent_offspeed_thrown', 'offspeed_spin', 'breaking_break_horizontal', 'percent_breaking_thrown', 'breaking_spin']])\n",
    "    WHIPscore = model5_models[2].predict(features[['percent_fastball_thrown', 'fastball_spin', 'offspeed_break_horizontal', 'percent_offspeed_thrown', 'breaking_break_horizontal', 'percent_breaking_thrown', 'breaking_spin']])\n",
    "    z_contactscore = model5_models[0].predict(features[['fastball_break_vertical', 'fastball_break_horizontal', 'percent_fastball_thrown', 'fastball_speed', 'fastball_spin', 'offspeed_break_vertical', 'percent_offspeed_thrown', 'offspeed_spin', 'breaking_break_vertical', 'percent_breaking_thrown', 'breaking_speed']])\n",
    "    Score_Model['ERA Projected'] = ERAscore\n",
    "    Score_Model['WHIP Projected'] = WHIPscore\n",
    "    Score_Model['Z Contact Percent Projected'] = z_contactscore\n",
    "    Score_Model['Name'] = pitchers_dataframe['Name']\n",
    "    return Score_Model      "
   ]
  }
 ],
 "metadata": {
  "kernelspec": {
   "display_name": "Python 3",
   "language": "python",
   "name": "python3"
  },
  "language_info": {
   "codemirror_mode": {
    "name": "ipython",
    "version": 3
   },
   "file_extension": ".py",
   "mimetype": "text/x-python",
   "name": "python",
   "nbconvert_exporter": "python",
   "pygments_lexer": "ipython3",
   "version": "3.6.12"
  }
 },
 "nbformat": 4,
 "nbformat_minor": 4
}
